{
 "cells": [
  {
   "cell_type": "markdown",
   "metadata": {
    "nbgrader": {
     "grade": false,
     "grade_id": "cell-c9bfcc10c56bc604",
     "locked": true,
     "schema_version": 3,
     "solution": false,
     "task": false
    }
   },
   "source": [
    "# Laboratorio 2"
   ]
  },
  {
   "cell_type": "markdown",
   "metadata": {
    "nbgrader": {
     "grade": false,
     "grade_id": "cell-c9bfcc10c56bc605",
     "locked": true,
     "schema_version": 3,
     "solution": false,
     "task": false
    }
   },
   "source": [
    "## Desarrollo de una herramienta analítica usando paquetes especializados para análisis de datos en Python"
   ]
  },
  {
   "cell_type": "markdown",
   "metadata": {
    "nbgrader": {
     "grade": false,
     "grade_id": "cell-c9bfcc10c56bc606",
     "locked": true,
     "schema_version": 3,
     "solution": false,
     "task": false
    }
   },
   "source": [
    "Para el desarrollo de esta actividad puedes utilizar cualquier librería externa. Te recomendamos leer por completo el enunciado del laboratorio antes de comenzar, de forma que tengas claro el propósito global de la actividad y puedas desarrollar tu solución apuntando a él desde el inicio."
   ]
  },
  {
   "cell_type": "markdown",
   "metadata": {
    "nbgrader": {
     "grade": false,
     "grade_id": "cell-c9bfcc10c56bc607",
     "locked": true,
     "schema_version": 3,
     "solution": false,
     "task": false
    }
   },
   "source": [
    "Al desarrollar este laboratorio pondrás a prueba tus habilidades para:\n",
    "\n",
    "1. Identificar y abordar preguntas de negocio y de *analytics*.\n",
    "2. Leer datos desde archivos y almacenarlos utilizando métodos de librerías especializadas.\n",
    "3. Explorar, modificar, limpiar y unir objetos tablas de datos.\n",
    "4. Implementar análisis combinando métricas descriptivas, visualización, filtrado y agrupación.\n",
    "5. Implementar análisis basado en modelos estadísticos o de *machine learning*."
   ]
  },
  {
   "cell_type": "markdown",
   "metadata": {
    "nbgrader": {
     "grade": false,
     "grade_id": "cell-cfa5e4dba79247b3",
     "locked": true,
     "schema_version": 3,
     "solution": false,
     "task": false
    }
   },
   "source": [
    "##  Contexto: desigualdad y factores de éxito en pruebas Saber 11 en Colombia"
   ]
  },
  {
   "cell_type": "markdown",
   "metadata": {
    "nbgrader": {
     "grade": false,
     "grade_id": "cell-cfa5e4dba79247b4",
     "locked": true,
     "schema_version": 3,
     "solution": false,
     "task": false
    }
   },
   "source": [
    "El ICFES es el Instituto Colombiano para el Fomento de la Educación Superior y está adscrito al Ministerio de Educación a nivel nacional. Como parte de sus funciones, el ICFES administra las pruebas Saber 11, las cuales evalúan a todos los estudiantes del país al final de su educación secundaria. El examen contiene preguntas que evalúan una variedad de áreas del conocimiento (ej., matemáticas, física, inglés, etc.) y se lleva a cabo dos veces al año, ajustándose a los diferentes calendarios académicos que siguen las instituciones educativas. Al momento de inscribirse a las pruebas, los estudiantes diligencian un formulario que recoge información sociodemográfica y relacionada con la institución a la que pertenecen. El fin es obtener información con respecto al desempeño de los estudiantes en la prueba y de sus características."
   ]
  },
  {
   "cell_type": "markdown",
   "metadata": {
    "nbgrader": {
     "grade": false,
     "grade_id": "cell-cfa5e4dba79247b5",
     "locked": true,
     "schema_version": 3,
     "solution": false,
     "task": false
    }
   },
   "source": [
    "![msaberpro.png](Archivos/saberpro.png)"
   ]
  },
  {
   "cell_type": "markdown",
   "metadata": {
    "nbgrader": {
     "grade": false,
     "grade_id": "cell-cfa5e4dba79247b6",
     "locked": true,
     "schema_version": 3,
     "solution": false,
     "task": false
    }
   },
   "source": [
    "Al igual que otros países de la región, Colombia tiene grandes retos en términos de desigualdad, particularmente en el contexto de educación primaria y secundaria. Por esta razón, para el Estado colombiano es muy valioso el amplio registro de datos que el ICFES genera alrededor de las pruebas Saber 11, pues con ellos se pueden generar análisis sobre la calidad de la educación en el país y eventualmente dar lugar a recomendaciones sobre políticas públicas. En particular, la problemática a abordar en este caso de estudio es la desigualdad y factores de éxito en las pruebas Saber 11. "
   ]
  },
  {
   "cell_type": "markdown",
   "metadata": {
    "nbgrader": {
     "grade": false,
     "grade_id": "cell-cfa5e4dba79247b7",
     "locked": true,
     "schema_version": 3,
     "solution": false,
     "task": false
    }
   },
   "source": [
    "Los objetivos de este caso de estudio son:\n",
    "\n",
    "* Entender el contenido de los archivos de datos proporcionados sobre las pruebas Saber 11, generar un reporte acerca de sus características principales y seleccionar las partes de dicho contenido que podrían ser relevantes para el análisis.\n",
    "\n",
    "\n",
    "* Identificar características de las variables de interés y relaciones entre ellas, por ejemplo, a través de agrupación, visualizaciones y estadísticas descriptivas.\n",
    "\n",
    "\n",
    "* Proponer un modelo que busque relacionar las variables de interés con el desempeño de los estudiantes y concluir acerca de los posibles hallazgos que se podrían reportar para el *stakeholder*.\n",
    "\n",
    "\n",
    "* Generar una herramienta que permita a un usuario interactuar con alguno de los parámetros del análisis realizado de forma relevante en el contexto del problema."
   ]
  },
  {
   "cell_type": "markdown",
   "metadata": {
    "nbgrader": {
     "grade": false,
     "grade_id": "cell-997648f928b84190",
     "locked": true,
     "schema_version": 3,
     "solution": false,
     "task": false
    }
   },
   "source": [
    "## Fase 1: obtener e inspeccionar archivos"
   ]
  },
  {
   "cell_type": "markdown",
   "metadata": {
    "nbgrader": {
     "grade": false,
     "grade_id": "cell-997648f928b84191",
     "locked": true,
     "schema_version": 3,
     "solution": false,
     "task": false
    }
   },
   "source": [
    "En esta fase te harás una idea general del contenido de los datos y generarás un reporte al respecto (ej., imprimiendo mensajes, presentando tablas de resumen, etc.). Además, seleccionarás un segmento de los datos que consideres útil para realizar tu análisis."
   ]
  },
  {
   "cell_type": "markdown",
   "metadata": {
    "nbgrader": {
     "grade": false,
     "grade_id": "cell-997648f928b84192",
     "locked": true,
     "schema_version": 3,
     "solution": false,
     "task": false
    }
   },
   "source": [
    "Pautas generales:\n",
    "\n",
    "* Utilizar una librería especializada para leer los archivos de datos y agregarlos según sea necesario (ej., utilizando los métodos `append` o `concat` si eliges cargarlos utilizando la librería `pandas`).\n",
    "* Inspeccionar el archivo a partir de sus encabezados, columnas y descripciones de las variables según su tipo (ej., numéricas, categóricas).\n",
    "* Declarar una estructura de datos (ej., una lista) para almacenar un subconjunto de variables que puedan ser relevantes para la problemática de interés."
   ]
  },
  {
   "cell_type": "markdown",
   "metadata": {
    "nbgrader": {
     "grade": false,
     "grade_id": "cell-997648f928b84193",
     "locked": true,
     "schema_version": 3,
     "solution": false,
     "task": false
    }
   },
   "source": [
    "Preguntas guía:\n",
    "\n",
    "* ¿Qué dimensiones tienen los datos?\n",
    "* ¿Con cuántos años y periodos de evaluación se cuenta?\n",
    "* ¿Cuáles variables pueden ser de interés para la problemática planteada?\n",
    "* ¿Qué porcentaje de datos faltantes o no válidos hay en las columnas de interés? ¿Qué planteas para manejarlos?"
   ]
  },
  {
   "cell_type": "code",
   "execution_count": null,
   "metadata": {
    "nbgrader": {
     "grade": true,
     "grade_id": "cell-83d3b414ead0cca9",
     "locked": false,
     "points": 20,
     "schema_version": 3,
     "solution": true,
     "task": false
    }
   },
   "outputs": [],
   "source": [
    "# Implementa tu respuesta en esta celda\n",
    "\n",
    "#pip install sodapy\n",
    "\n",
    "# Importar librerias a usar\n",
    "import numpy as np\n",
    "import pandas as pd\n",
    "from sodapy import Socrata\n",
    "import matplotlib\n",
    "import matplotlib.pylab as plt\n",
    "import seaborn as sns\n",
    "from sklearn.impute import SimpleImputer"
   ]
  },
  {
   "cell_type": "code",
   "execution_count": 2,
   "metadata": {},
   "outputs": [],
   "source": [
    "# Se usa el API que tiene integrada la plataforma de Datos Abiertos para extraer el conjunto de datos\n",
    "# Se hace uso del paquete Socrata con el token personal\n",
    "client = Socrata(\"www.datos.gov.co\", \"qBfC3Dwi5pSQxUNXE8YPbT8gj\")\n",
    "\n",
    "# ID del conjunto de datos a recuperar\n",
    "# https://www.datos.gov.co/Educaci-n/Resultados-nicos-Saber-11/kgxf-xxbe\n",
    "# Conjunto de datos: Resultados únicos Saber 11 2010 al 2022\n",
    "dataset_id = \"kgxf-xxbe\"\n",
    "\n",
    "# lista donde se definen los años a trabajar\n",
    "anios = ['20191','20194','20201','20204','20211','20214','20221','20224']\n",
    "\n",
    "# Crear dataframe para almacenar los registros de los años seleccionados\n",
    "data = pd.DataFrame()\n",
    "\n",
    "# Almacenar la información por cada año elegido\n",
    "for i in anios:\n",
    "    # Se utiliza la funcion .get() para recuperar los registros de cada periodo, se coloca limit para extraer menor cantidad de registros\n",
    "    results = client.get(dataset_id, where =\"periodo like '%{}%'\".format(i),limit=100000)\n",
    "\n",
    "    # Convierte los resultados en un DataFrame\n",
    "    df = pd.DataFrame.from_records(results)\n",
    "    \n",
    "    # Une los datos obtenidos al dataframe principal\n",
    "    data = pd.concat([data,df],ignore_index=True)"
   ]
  },
  {
   "cell_type": "code",
   "execution_count": 109,
   "metadata": {
    "tags": []
   },
   "outputs": [],
   "source": [
    "# En caso de que se genere error en el API, cargar datos manualmente\n",
    "ruta = r'Archivos/base_saber_11.csv'\n",
    "data = pd.read_csv(ruta)"
   ]
  },
  {
   "cell_type": "code",
   "execution_count": 148,
   "metadata": {
    "tags": []
   },
   "outputs": [],
   "source": [
    "# Cambiar tipo dato a numerico\n",
    "#data1['periodo']=pd.to_numeric(data1['periodo'])\n",
    "data['punt_matematicas']=pd.to_numeric(data['punt_matematicas'])\n",
    "data['punt_sociales_ciudadanas']=pd.to_numeric(data['punt_sociales_ciudadanas'])\n",
    "data['punt_c_naturales']=pd.to_numeric(data['punt_c_naturales'])\n",
    "data['punt_lectura_critica']=pd.to_numeric(data['punt_lectura_critica'])\n",
    "data['punt_ingles']=pd.to_numeric(data['punt_ingles'])\n",
    "data['punt_global']=pd.to_numeric(data['punt_global'])\n",
    "\n",
    "# Cambiar tipo dato a string\n",
    "for i in data.columns:\n",
    "    if data[i].dtype == 'object':\n",
    "        data[i] = data[i].astype(str)\n",
    "    \n",
    "data['periodo'] = data['periodo'].astype(str)\n",
    "\n",
    "# Cambiar tipo dato a datetime\n",
    "#data['estu_fechanacimiento'] = data['estu_fechanacimiento'].fillna('1900/01/01', inplace = True)\n",
    "#data['estu_fechanacimiento'] =  pd.to_datetime(data['estu_fechanacimiento'])"
   ]
  },
  {
   "cell_type": "code",
   "execution_count": 88,
   "metadata": {},
   "outputs": [],
   "source": [
    "# Se seleccionan las variables con las cuales se va a trabajar\n",
    "variables_selec = ['periodo', 'estu_tipodocumento', \n",
    "                   'cole_area_ubicacion', 'cole_bilingue', 'cole_calendario', 'cole_caracter', 'cole_depto_ubicacion', \n",
    "                   'cole_genero', 'cole_jornada', 'cole_mcpio_ubicacion', 'cole_naturaleza', 'cole_nombre_establecimiento', 'cole_nombre_sede',\n",
    "                   'estu_depto_presentacion', 'estu_depto_reside', 'estu_fechanacimiento', 'estu_genero', 'estu_mcpio_presentacion', 'estu_mcpio_reside', \n",
    "                   'estu_nacionalidad', 'estu_pais_reside', 'estu_privado_libertad',\n",
    "                   'fami_educacionmadre', 'fami_educacionpadre', 'fami_estratovivienda', 'fami_personashogar', 'fami_tieneautomovil', \n",
    "                   'fami_tienecomputador', 'fami_tieneinternet', 'fami_tienelavadora', \n",
    "                   'desemp_ingles', 'punt_ingles', 'punt_matematicas', 'punt_sociales_ciudadanas', 'punt_c_naturales', 'punt_lectura_critica', 'punt_global']"
   ]
  },
  {
   "cell_type": "code",
   "execution_count": 89,
   "metadata": {},
   "outputs": [],
   "source": [
    "# Se eliminan las variables que no estan en la lista de variables seleccionadas\n",
    "variables_eliminar = [col for col in data.columns if col not in variables_selec]\n",
    "data1 = data.drop(variables_eliminar, axis=1)"
   ]
  },
  {
   "cell_type": "code",
   "execution_count": 77,
   "metadata": {
    "collapsed": true,
    "jupyter": {
     "outputs_hidden": true
    },
    "tags": []
   },
   "outputs": [
    {
     "name": "stdout",
     "output_type": "stream",
     "text": [
      "Las dimensiones del conjunto de datos son: \n",
      "----------------------------------------------------------------------------------------\n",
      "Filas = 263573\n",
      "Columnas = 51\n",
      "<class 'pandas.core.frame.DataFrame'>\n",
      "RangeIndex: 263573 entries, 0 to 263572\n",
      "Data columns (total 51 columns):\n",
      " #   Column                         Non-Null Count   Dtype \n",
      "---  ------                         --------------   ----- \n",
      " 0   periodo                        263573 non-null  object\n",
      " 1   estu_tipodocumento             263573 non-null  object\n",
      " 2   estu_consecutivo               263573 non-null  object\n",
      " 3   cole_area_ubicacion            263573 non-null  object\n",
      " 4   cole_bilingue                  218192 non-null  object\n",
      " 5   cole_calendario                263573 non-null  object\n",
      " 6   cole_caracter                  252650 non-null  object\n",
      " 7   cole_cod_dane_establecimiento  263573 non-null  object\n",
      " 8   cole_cod_dane_sede             263573 non-null  object\n",
      " 9   cole_cod_depto_ubicacion       263573 non-null  object\n",
      " 10  cole_cod_mcpio_ubicacion       263573 non-null  object\n",
      " 11  cole_codigo_icfes              263573 non-null  object\n",
      " 12  cole_depto_ubicacion           263573 non-null  object\n",
      " 13  cole_genero                    263573 non-null  object\n",
      " 14  cole_jornada                   263573 non-null  object\n",
      " 15  cole_mcpio_ubicacion           263573 non-null  object\n",
      " 16  cole_naturaleza                263573 non-null  object\n",
      " 17  cole_nombre_establecimiento    263573 non-null  object\n",
      " 18  cole_nombre_sede               263573 non-null  object\n",
      " 19  cole_sede_principal            263573 non-null  object\n",
      " 20  estu_cod_depto_presentacion    263573 non-null  object\n",
      " 21  estu_cod_mcpio_presentacion    263573 non-null  object\n",
      " 22  estu_cod_reside_depto          262719 non-null  object\n",
      " 23  estu_cod_reside_mcpio          262719 non-null  object\n",
      " 24  estu_depto_presentacion        263573 non-null  object\n",
      " 25  estu_depto_reside              262719 non-null  object\n",
      " 26  estu_estadoinvestigacion       263573 non-null  object\n",
      " 27  estu_estudiante                263573 non-null  object\n",
      " 28  estu_fechanacimiento           263559 non-null  object\n",
      " 29  estu_genero                    263544 non-null  object\n",
      " 30  estu_mcpio_presentacion        263573 non-null  object\n",
      " 31  estu_mcpio_reside              262719 non-null  object\n",
      " 32  estu_nacionalidad              263573 non-null  object\n",
      " 33  estu_pais_reside               263573 non-null  object\n",
      " 34  estu_privado_libertad          263573 non-null  object\n",
      " 35  fami_cuartoshogar              252701 non-null  object\n",
      " 36  fami_educacionmadre            247942 non-null  object\n",
      " 37  fami_educacionpadre            247955 non-null  object\n",
      " 38  fami_estratovivienda           246028 non-null  object\n",
      " 39  fami_personashogar             253130 non-null  object\n",
      " 40  fami_tieneautomovil            252250 non-null  object\n",
      " 41  fami_tienecomputador           252767 non-null  object\n",
      " 42  fami_tieneinternet             247727 non-null  object\n",
      " 43  fami_tienelavadora             252740 non-null  object\n",
      " 44  desemp_ingles                  263067 non-null  object\n",
      " 45  punt_ingles                    263031 non-null  object\n",
      " 46  punt_matematicas               263573 non-null  object\n",
      " 47  punt_sociales_ciudadanas       263573 non-null  object\n",
      " 48  punt_c_naturales               263573 non-null  object\n",
      " 49  punt_lectura_critica           263573 non-null  object\n",
      " 50  punt_global                    263573 non-null  object\n",
      "dtypes: object(51)\n",
      "memory usage: 102.6+ MB\n",
      "\n",
      "\n",
      "El conjunto de datos tiene los siguientes años con dos periodos de evaluación cada año: \n",
      "----------------------------------------------------------------------------------------\n",
      "periodo\n",
      "20191     12561\n",
      "20194    100000\n",
      "20201     15435\n",
      "20211     15528\n",
      "20221     20049\n",
      "20224    100000\n",
      "Name: estu_consecutivo, dtype: int64\n",
      "\n",
      "\n",
      "Las variables de interés para dar solución a la problematica planteada son: \n",
      "----------------------------------------------------------------------------------------\n",
      "<class 'pandas.core.frame.DataFrame'>\n",
      "RangeIndex: 263573 entries, 0 to 263572\n",
      "Data columns (total 37 columns):\n",
      " #   Column                       Non-Null Count   Dtype \n",
      "---  ------                       --------------   ----- \n",
      " 0   periodo                      263573 non-null  object\n",
      " 1   estu_tipodocumento           263573 non-null  object\n",
      " 2   cole_area_ubicacion          263573 non-null  object\n",
      " 3   cole_bilingue                218192 non-null  object\n",
      " 4   cole_calendario              263573 non-null  object\n",
      " 5   cole_caracter                252650 non-null  object\n",
      " 6   cole_depto_ubicacion         263573 non-null  object\n",
      " 7   cole_genero                  263573 non-null  object\n",
      " 8   cole_jornada                 263573 non-null  object\n",
      " 9   cole_mcpio_ubicacion         263573 non-null  object\n",
      " 10  cole_naturaleza              263573 non-null  object\n",
      " 11  cole_nombre_establecimiento  263573 non-null  object\n",
      " 12  cole_nombre_sede             263573 non-null  object\n",
      " 13  estu_depto_presentacion      263573 non-null  object\n",
      " 14  estu_depto_reside            262719 non-null  object\n",
      " 15  estu_fechanacimiento         263559 non-null  object\n",
      " 16  estu_genero                  263544 non-null  object\n",
      " 17  estu_mcpio_presentacion      263573 non-null  object\n",
      " 18  estu_mcpio_reside            262719 non-null  object\n",
      " 19  estu_nacionalidad            263573 non-null  object\n",
      " 20  estu_pais_reside             263573 non-null  object\n",
      " 21  estu_privado_libertad        263573 non-null  object\n",
      " 22  fami_educacionmadre          247942 non-null  object\n",
      " 23  fami_educacionpadre          247955 non-null  object\n",
      " 24  fami_estratovivienda         246028 non-null  object\n",
      " 25  fami_personashogar           253130 non-null  object\n",
      " 26  fami_tieneautomovil          252250 non-null  object\n",
      " 27  fami_tienecomputador         252767 non-null  object\n",
      " 28  fami_tieneinternet           247727 non-null  object\n",
      " 29  fami_tienelavadora           252740 non-null  object\n",
      " 30  desemp_ingles                263067 non-null  object\n",
      " 31  punt_ingles                  263031 non-null  object\n",
      " 32  punt_matematicas             263573 non-null  object\n",
      " 33  punt_sociales_ciudadanas     263573 non-null  object\n",
      " 34  punt_c_naturales             263573 non-null  object\n",
      " 35  punt_lectura_critica         263573 non-null  object\n",
      " 36  punt_global                  263573 non-null  object\n",
      "dtypes: object(37)\n",
      "memory usage: 74.4+ MB\n",
      "\n",
      "\n",
      "El porcentaje de datos faltantes o no validos en las variables de intéres es: \n",
      "----------------------------------------------------------------------------------------\n"
     ]
    },
    {
     "data": {
      "text/plain": [
       "periodo                         0.000000%\n",
       "estu_tipodocumento              0.000000%\n",
       "cole_area_ubicacion             0.000000%\n",
       "cole_bilingue                  17.217621%\n",
       "cole_calendario                 0.000000%\n",
       "cole_caracter                   4.144203%\n",
       "cole_depto_ubicacion            0.000000%\n",
       "cole_genero                     0.000000%\n",
       "cole_jornada                    0.000000%\n",
       "cole_mcpio_ubicacion            0.000000%\n",
       "cole_naturaleza                 0.000000%\n",
       "cole_nombre_establecimiento     0.000000%\n",
       "cole_nombre_sede                0.000000%\n",
       "estu_depto_presentacion         0.000000%\n",
       "estu_depto_reside               0.324009%\n",
       "estu_fechanacimiento            0.005312%\n",
       "estu_genero                     0.011003%\n",
       "estu_mcpio_presentacion         0.000000%\n",
       "estu_mcpio_reside               0.324009%\n",
       "estu_nacionalidad               0.000000%\n",
       "estu_pais_reside                0.000000%\n",
       "estu_privado_libertad           0.000000%\n",
       "fami_educacionmadre             5.930425%\n",
       "fami_educacionpadre             5.925493%\n",
       "fami_estratovivienda            6.656600%\n",
       "fami_personashogar              3.962090%\n",
       "fami_tieneautomovil             4.295964%\n",
       "fami_tienecomputador            4.099813%\n",
       "fami_tieneinternet              6.011997%\n",
       "fami_tienelavadora              4.110057%\n",
       "desemp_ingles                   0.191977%\n",
       "punt_ingles                     0.205636%\n",
       "punt_matematicas                0.000000%\n",
       "punt_sociales_ciudadanas        0.000000%\n",
       "punt_c_naturales                0.000000%\n",
       "punt_lectura_critica            0.000000%\n",
       "punt_global                     0.000000%\n",
       "dtype: object"
      ]
     },
     "execution_count": 77,
     "metadata": {},
     "output_type": "execute_result"
    }
   ],
   "source": [
    "print(\"Las dimensiones del conjunto de datos son: \")\n",
    "print(\"----------------------------------------------------------------------------------------\")\n",
    "print(\"Filas = \" + str(data.shape[0]))\n",
    "print(\"Columnas = \" + str(data.shape[1]))\n",
    "data.info()\n",
    "\n",
    "print(\"\\n\")\n",
    "print(\"El conjunto de datos tiene los siguientes años con dos periodos de evaluación cada año: \")\n",
    "print(\"----------------------------------------------------------------------------------------\")\n",
    "\n",
    "print(data.groupby(['periodo'])['estu_consecutivo'].count())\n",
    "\n",
    "print(\"\\n\")\n",
    "print(\"Las variables de interés para dar solución a la problemática planteada son: \")\n",
    "print(\"----------------------------------------------------------------------------------------\")\n",
    "data1.info()\n",
    "\n",
    "print(\"\\n\")\n",
    "print(\"El porcentaje de datos faltantes o no validos en las variables de intéres es: \")\n",
    "print(\"----------------------------------------------------------------------------------------\")\n",
    "((data1.isna().sum()/len(data1))*100).apply(lambda x: \"{:2f}%\".format(x))"
   ]
  },
  {
   "cell_type": "markdown",
   "metadata": {},
   "source": [
    "##### Estrategia para manejar datos nulos o vacios\n",
    "Dado que el porcentaje de datos vacios o nulos es bajo y se encuentra principalmente en variables categoricas, lo que se propone es reemplazar estos con el valor más frecuente en cada variable."
   ]
  },
  {
   "cell_type": "code",
   "execution_count": 93,
   "metadata": {
    "tags": []
   },
   "outputs": [],
   "source": [
    "# Encuentra las columnas categóricas con NaN\n",
    "columnas_categoricas_con_nan = data1.columns[data1.isnull().any()].tolist()\n",
    "\n",
    "# Itera a través de las columnas categóricas y aplica SimpleImputer\n",
    "for columna in columnas_categoricas_con_nan:\n",
    "    data1[i] = data1[i].replace('nan', np.nan)\n",
    "    imputerCat = SimpleImputer(strategy='most_frequent')\n",
    "    data1[columna] = imputerCat.fit_transform(data1[[columna]])"
   ]
  },
  {
   "cell_type": "code",
   "execution_count": 90,
   "metadata": {
    "tags": []
   },
   "outputs": [
    {
     "name": "stdout",
     "output_type": "stream",
     "text": [
      "VALIDACIÓN\n",
      "\n",
      "\n",
      "El porcentaje de datos faltantes o no validos en las variables de intéres es: \n",
      "----------------------------------------------------------------------------------------\n"
     ]
    },
    {
     "data": {
      "text/plain": [
       "periodo                        0.000000%\n",
       "estu_tipodocumento             0.000000%\n",
       "cole_area_ubicacion            0.000000%\n",
       "cole_bilingue                  0.000000%\n",
       "cole_calendario                0.000000%\n",
       "cole_caracter                  0.000000%\n",
       "cole_depto_ubicacion           0.000000%\n",
       "cole_genero                    0.000000%\n",
       "cole_jornada                   0.000000%\n",
       "cole_mcpio_ubicacion           0.000000%\n",
       "cole_naturaleza                0.000000%\n",
       "cole_nombre_establecimiento    0.000000%\n",
       "cole_nombre_sede               0.000000%\n",
       "estu_depto_presentacion        0.000000%\n",
       "estu_depto_reside              0.000000%\n",
       "estu_fechanacimiento           0.000000%\n",
       "estu_genero                    0.000000%\n",
       "estu_mcpio_presentacion        0.000000%\n",
       "estu_mcpio_reside              0.000000%\n",
       "estu_nacionalidad              0.000000%\n",
       "estu_pais_reside               0.000000%\n",
       "estu_privado_libertad          0.000000%\n",
       "fami_educacionmadre            0.000000%\n",
       "fami_educacionpadre            0.000000%\n",
       "fami_estratovivienda           0.000000%\n",
       "fami_personashogar             0.000000%\n",
       "fami_tieneautomovil            0.000000%\n",
       "fami_tienecomputador           0.000000%\n",
       "fami_tieneinternet             0.000000%\n",
       "fami_tienelavadora             0.000000%\n",
       "desemp_ingles                  0.000000%\n",
       "punt_ingles                    0.000000%\n",
       "punt_matematicas               0.000000%\n",
       "punt_sociales_ciudadanas       0.000000%\n",
       "punt_c_naturales               0.000000%\n",
       "punt_lectura_critica           0.000000%\n",
       "punt_global                    0.000000%\n",
       "dtype: object"
      ]
     },
     "execution_count": 90,
     "metadata": {},
     "output_type": "execute_result"
    }
   ],
   "source": [
    "print(\"VALIDACIÓN\")\n",
    "print(\"\\n\")\n",
    "print(\"El porcentaje de datos faltantes o no validos en las variables de intéres es: \")\n",
    "print(\"----------------------------------------------------------------------------------------\")\n",
    "((data1.isna().sum()/len(data1))*100).apply(lambda x: \"{:2f}%\".format(x))"
   ]
  },
  {
   "cell_type": "markdown",
   "metadata": {
    "jp-MarkdownHeadingCollapsed": true,
    "nbgrader": {
     "grade": false,
     "grade_id": "cell-015824b401dc270e",
     "locked": true,
     "schema_version": 3,
     "solution": false,
     "task": false
    },
    "tags": []
   },
   "source": [
    "## Fase 2: identificar características y relaciones en las variables"
   ]
  },
  {
   "cell_type": "markdown",
   "metadata": {
    "nbgrader": {
     "grade": false,
     "grade_id": "cell-015824b401dc270e1",
     "locked": true,
     "schema_version": 3,
     "solution": false,
     "task": false
    }
   },
   "source": [
    "En esta fase realizarás análisis descriptivo para identificar posibles patrones o relaciones entre las variables de interés para la problemática planteada. Además, expondrás estadísticas descriptivas y visualizaciones para concluir al respecto de los patrones y las relaciones identificadas. Finalmente, elegirás el segmento de los datos sobre el cual profundizarás con tu análisis (este puede ser, o no, igual al seleccionado anteriormente)."
   ]
  },
  {
   "cell_type": "markdown",
   "metadata": {
    "nbgrader": {
     "grade": false,
     "grade_id": "cell-015824b401dc270e2",
     "locked": true,
     "schema_version": 3,
     "solution": false,
     "task": false
    }
   },
   "source": [
    "Pautas generales:\n",
    "\n",
    "* Calcular estadísticas descriptivas básicas (por lo menos, media/mediana y varianza/desviación) para cada variable sociodemográfica relevante en el contexto del problema.\n",
    "* Utilizar librerías especializadas (ej., `matplotlib`, `seaborn`, etc.) para inspeccionar visualmente variables de interés. Los métodos `distplot`, `pairplot`, `boxplot`, o `violinplot`, entre otros, pueden ser útiles.\n",
    "* Utilizar el método `groupby` de `pandas`, en conjunto con métodos de visualización, puede proveer evidencia del impacto de las variables sociodemográficas de interés sobre el desempeño de los estudiantes en la prueba."
   ]
  },
  {
   "cell_type": "markdown",
   "metadata": {
    "nbgrader": {
     "grade": false,
     "grade_id": "cell-015824b401dc270e3",
     "locked": true,
     "schema_version": 3,
     "solution": false,
     "task": false
    }
   },
   "source": [
    "Preguntas guía:\n",
    "\n",
    "* ¿Hay patrones de interés en las distribuciones de las variables o en las relaciones entre ellas?\n",
    "* ¿Consideras que existe algún impacto significativo de variables sociodemográficas en los puntajes globales o por área?\n",
    "* ¿Sobre cuáles variables harías un análisis más profundo?"
   ]
  },
  {
   "cell_type": "code",
   "execution_count": 8,
   "metadata": {
    "nbgrader": {
     "grade": true,
     "grade_id": "cell-e13f54c7af1552c9",
     "locked": false,
     "points": 20,
     "schema_version": 3,
     "solution": true,
     "task": false
    }
   },
   "outputs": [],
   "source": [
    "# Implementa tu respuesta en esta celda\n",
    "import matplotlib.pyplot as plt\n",
    "import seaborn as sns\n",
    "import scipy.stats as stats"
   ]
  },
  {
   "cell_type": "markdown",
   "metadata": {
    "jp-MarkdownHeadingCollapsed": true,
    "tags": []
   },
   "source": [
    "##### Estadísticas"
   ]
  },
  {
   "cell_type": "code",
   "execution_count": 9,
   "metadata": {},
   "outputs": [
    {
     "data": {
      "text/html": [
       "<div>\n",
       "<style scoped>\n",
       "    .dataframe tbody tr th:only-of-type {\n",
       "        vertical-align: middle;\n",
       "    }\n",
       "\n",
       "    .dataframe tbody tr th {\n",
       "        vertical-align: top;\n",
       "    }\n",
       "\n",
       "    .dataframe thead th {\n",
       "        text-align: right;\n",
       "    }\n",
       "</style>\n",
       "<table border=\"1\" class=\"dataframe\">\n",
       "  <thead>\n",
       "    <tr style=\"text-align: right;\">\n",
       "      <th></th>\n",
       "      <th>punt_ingles</th>\n",
       "      <th>punt_matematicas</th>\n",
       "      <th>punt_sociales_ciudadanas</th>\n",
       "      <th>punt_c_naturales</th>\n",
       "      <th>punt_lectura_critica</th>\n",
       "      <th>punt_global</th>\n",
       "    </tr>\n",
       "  </thead>\n",
       "  <tbody>\n",
       "    <tr>\n",
       "      <th>count</th>\n",
       "      <td>263031.000000</td>\n",
       "      <td>263573.000000</td>\n",
       "      <td>263573.000000</td>\n",
       "      <td>263573.000000</td>\n",
       "      <td>263573.000000</td>\n",
       "      <td>263573.000000</td>\n",
       "    </tr>\n",
       "    <tr>\n",
       "      <th>mean</th>\n",
       "      <td>53.327083</td>\n",
       "      <td>52.890391</td>\n",
       "      <td>49.376450</td>\n",
       "      <td>50.795613</td>\n",
       "      <td>54.465180</td>\n",
       "      <td>259.956111</td>\n",
       "    </tr>\n",
       "    <tr>\n",
       "      <th>std</th>\n",
       "      <td>15.861841</td>\n",
       "      <td>13.167211</td>\n",
       "      <td>13.139633</td>\n",
       "      <td>11.598172</td>\n",
       "      <td>11.380761</td>\n",
       "      <td>57.636552</td>\n",
       "    </tr>\n",
       "    <tr>\n",
       "      <th>min</th>\n",
       "      <td>0.000000</td>\n",
       "      <td>0.000000</td>\n",
       "      <td>0.000000</td>\n",
       "      <td>0.000000</td>\n",
       "      <td>0.000000</td>\n",
       "      <td>0.000000</td>\n",
       "    </tr>\n",
       "    <tr>\n",
       "      <th>25%</th>\n",
       "      <td>41.000000</td>\n",
       "      <td>43.000000</td>\n",
       "      <td>39.000000</td>\n",
       "      <td>42.000000</td>\n",
       "      <td>46.000000</td>\n",
       "      <td>215.000000</td>\n",
       "    </tr>\n",
       "    <tr>\n",
       "      <th>50%</th>\n",
       "      <td>51.000000</td>\n",
       "      <td>53.000000</td>\n",
       "      <td>49.000000</td>\n",
       "      <td>50.000000</td>\n",
       "      <td>55.000000</td>\n",
       "      <td>256.000000</td>\n",
       "    </tr>\n",
       "    <tr>\n",
       "      <th>75%</th>\n",
       "      <td>63.000000</td>\n",
       "      <td>62.000000</td>\n",
       "      <td>59.000000</td>\n",
       "      <td>59.000000</td>\n",
       "      <td>63.000000</td>\n",
       "      <td>302.000000</td>\n",
       "    </tr>\n",
       "    <tr>\n",
       "      <th>max</th>\n",
       "      <td>100.000000</td>\n",
       "      <td>100.000000</td>\n",
       "      <td>100.000000</td>\n",
       "      <td>100.000000</td>\n",
       "      <td>100.000000</td>\n",
       "      <td>495.000000</td>\n",
       "    </tr>\n",
       "  </tbody>\n",
       "</table>\n",
       "</div>"
      ],
      "text/plain": [
       "         punt_ingles  punt_matematicas  punt_sociales_ciudadanas  \\\n",
       "count  263031.000000     263573.000000             263573.000000   \n",
       "mean       53.327083         52.890391                 49.376450   \n",
       "std        15.861841         13.167211                 13.139633   \n",
       "min         0.000000          0.000000                  0.000000   \n",
       "25%        41.000000         43.000000                 39.000000   \n",
       "50%        51.000000         53.000000                 49.000000   \n",
       "75%        63.000000         62.000000                 59.000000   \n",
       "max       100.000000        100.000000                100.000000   \n",
       "\n",
       "       punt_c_naturales  punt_lectura_critica    punt_global  \n",
       "count     263573.000000         263573.000000  263573.000000  \n",
       "mean          50.795613             54.465180     259.956111  \n",
       "std           11.598172             11.380761      57.636552  \n",
       "min            0.000000              0.000000       0.000000  \n",
       "25%           42.000000             46.000000     215.000000  \n",
       "50%           50.000000             55.000000     256.000000  \n",
       "75%           59.000000             63.000000     302.000000  \n",
       "max          100.000000            100.000000     495.000000  "
      ]
     },
     "execution_count": 9,
     "metadata": {},
     "output_type": "execute_result"
    }
   ],
   "source": [
    "# Estadisticas descriptivas variables númericas\n",
    "data1.describe(include=[np.number])"
   ]
  },
  {
   "cell_type": "code",
   "execution_count": 10,
   "metadata": {},
   "outputs": [
    {
     "data": {
      "text/html": [
       "<div>\n",
       "<style scoped>\n",
       "    .dataframe tbody tr th:only-of-type {\n",
       "        vertical-align: middle;\n",
       "    }\n",
       "\n",
       "    .dataframe tbody tr th {\n",
       "        vertical-align: top;\n",
       "    }\n",
       "\n",
       "    .dataframe thead th {\n",
       "        text-align: right;\n",
       "    }\n",
       "</style>\n",
       "<table border=\"1\" class=\"dataframe\">\n",
       "  <thead>\n",
       "    <tr style=\"text-align: right;\">\n",
       "      <th></th>\n",
       "      <th>periodo</th>\n",
       "      <th>estu_tipodocumento</th>\n",
       "      <th>cole_area_ubicacion</th>\n",
       "      <th>cole_bilingue</th>\n",
       "      <th>cole_calendario</th>\n",
       "      <th>cole_caracter</th>\n",
       "      <th>cole_depto_ubicacion</th>\n",
       "      <th>cole_genero</th>\n",
       "      <th>cole_jornada</th>\n",
       "      <th>cole_mcpio_ubicacion</th>\n",
       "      <th>...</th>\n",
       "      <th>estu_privado_libertad</th>\n",
       "      <th>fami_educacionmadre</th>\n",
       "      <th>fami_educacionpadre</th>\n",
       "      <th>fami_estratovivienda</th>\n",
       "      <th>fami_personashogar</th>\n",
       "      <th>fami_tieneautomovil</th>\n",
       "      <th>fami_tienecomputador</th>\n",
       "      <th>fami_tieneinternet</th>\n",
       "      <th>fami_tienelavadora</th>\n",
       "      <th>desemp_ingles</th>\n",
       "    </tr>\n",
       "  </thead>\n",
       "  <tbody>\n",
       "    <tr>\n",
       "      <th>count</th>\n",
       "      <td>263573</td>\n",
       "      <td>263573</td>\n",
       "      <td>263573</td>\n",
       "      <td>218192</td>\n",
       "      <td>263573</td>\n",
       "      <td>252650</td>\n",
       "      <td>263573</td>\n",
       "      <td>263573</td>\n",
       "      <td>263573</td>\n",
       "      <td>263573</td>\n",
       "      <td>...</td>\n",
       "      <td>263573</td>\n",
       "      <td>247942</td>\n",
       "      <td>247955</td>\n",
       "      <td>246028</td>\n",
       "      <td>253130</td>\n",
       "      <td>252250</td>\n",
       "      <td>252767</td>\n",
       "      <td>247727</td>\n",
       "      <td>252740</td>\n",
       "      <td>263067</td>\n",
       "    </tr>\n",
       "    <tr>\n",
       "      <th>unique</th>\n",
       "      <td>6</td>\n",
       "      <td>12</td>\n",
       "      <td>2</td>\n",
       "      <td>2</td>\n",
       "      <td>3</td>\n",
       "      <td>4</td>\n",
       "      <td>34</td>\n",
       "      <td>3</td>\n",
       "      <td>6</td>\n",
       "      <td>1029</td>\n",
       "      <td>...</td>\n",
       "      <td>2</td>\n",
       "      <td>12</td>\n",
       "      <td>12</td>\n",
       "      <td>7</td>\n",
       "      <td>5</td>\n",
       "      <td>2</td>\n",
       "      <td>2</td>\n",
       "      <td>2</td>\n",
       "      <td>2</td>\n",
       "      <td>5</td>\n",
       "    </tr>\n",
       "    <tr>\n",
       "      <th>top</th>\n",
       "      <td>20194</td>\n",
       "      <td>TI</td>\n",
       "      <td>URBANO</td>\n",
       "      <td>N</td>\n",
       "      <td>A</td>\n",
       "      <td>ACADÉMICO</td>\n",
       "      <td>VALLE</td>\n",
       "      <td>MIXTO</td>\n",
       "      <td>MAÑANA</td>\n",
       "      <td>BOGOTÁ D.C.</td>\n",
       "      <td>...</td>\n",
       "      <td>N</td>\n",
       "      <td>Secundaria (Bachillerato) completa</td>\n",
       "      <td>Secundaria (Bachillerato) completa</td>\n",
       "      <td>Estrato 2</td>\n",
       "      <td>3 a 4</td>\n",
       "      <td>No</td>\n",
       "      <td>Si</td>\n",
       "      <td>Si</td>\n",
       "      <td>Si</td>\n",
       "      <td>A-</td>\n",
       "    </tr>\n",
       "    <tr>\n",
       "      <th>freq</th>\n",
       "      <td>100000</td>\n",
       "      <td>218554</td>\n",
       "      <td>221690</td>\n",
       "      <td>201984</td>\n",
       "      <td>209338</td>\n",
       "      <td>150750</td>\n",
       "      <td>42050</td>\n",
       "      <td>251012</td>\n",
       "      <td>104442</td>\n",
       "      <td>43173</td>\n",
       "      <td>...</td>\n",
       "      <td>263475</td>\n",
       "      <td>59892</td>\n",
       "      <td>52956</td>\n",
       "      <td>76778</td>\n",
       "      <td>134062</td>\n",
       "      <td>162186</td>\n",
       "      <td>158976</td>\n",
       "      <td>181970</td>\n",
       "      <td>203956</td>\n",
       "      <td>107285</td>\n",
       "    </tr>\n",
       "  </tbody>\n",
       "</table>\n",
       "<p>4 rows × 31 columns</p>\n",
       "</div>"
      ],
      "text/plain": [
       "       periodo estu_tipodocumento cole_area_ubicacion cole_bilingue  \\\n",
       "count   263573             263573              263573        218192   \n",
       "unique       6                 12                   2             2   \n",
       "top      20194                 TI              URBANO             N   \n",
       "freq    100000             218554              221690        201984   \n",
       "\n",
       "       cole_calendario cole_caracter cole_depto_ubicacion cole_genero  \\\n",
       "count           263573        252650               263573      263573   \n",
       "unique               3             4                   34           3   \n",
       "top                  A     ACADÉMICO                VALLE       MIXTO   \n",
       "freq            209338        150750                42050      251012   \n",
       "\n",
       "       cole_jornada cole_mcpio_ubicacion  ... estu_privado_libertad  \\\n",
       "count        263573               263573  ...                263573   \n",
       "unique            6                 1029  ...                     2   \n",
       "top          MAÑANA          BOGOTÁ D.C.  ...                     N   \n",
       "freq         104442                43173  ...                263475   \n",
       "\n",
       "                       fami_educacionmadre  \\\n",
       "count                               247942   \n",
       "unique                                  12   \n",
       "top     Secundaria (Bachillerato) completa   \n",
       "freq                                 59892   \n",
       "\n",
       "                       fami_educacionpadre fami_estratovivienda  \\\n",
       "count                               247955               246028   \n",
       "unique                                  12                    7   \n",
       "top     Secundaria (Bachillerato) completa            Estrato 2   \n",
       "freq                                 52956                76778   \n",
       "\n",
       "       fami_personashogar fami_tieneautomovil fami_tienecomputador  \\\n",
       "count              253130              252250               252767   \n",
       "unique                  5                   2                    2   \n",
       "top                 3 a 4                  No                   Si   \n",
       "freq               134062              162186               158976   \n",
       "\n",
       "       fami_tieneinternet fami_tienelavadora desemp_ingles  \n",
       "count              247727             252740        263067  \n",
       "unique                  2                  2             5  \n",
       "top                    Si                 Si            A-  \n",
       "freq               181970             203956        107285  \n",
       "\n",
       "[4 rows x 31 columns]"
      ]
     },
     "execution_count": 10,
     "metadata": {},
     "output_type": "execute_result"
    }
   ],
   "source": [
    "# Estadisticas descriptivas variables categoricas\n",
    "data1.describe(include=[object])"
   ]
  },
  {
   "cell_type": "markdown",
   "metadata": {
    "jp-MarkdownHeadingCollapsed": true,
    "tags": []
   },
   "source": [
    "##### Gráficas"
   ]
  },
  {
   "cell_type": "code",
   "execution_count": 101,
   "metadata": {
    "tags": []
   },
   "outputs": [
    {
     "data": {
      "image/png": "[encoded data removed]",
      "text/plain": [
       "<Figure size 640x480 with 1 Axes>"
      ]
     },
     "metadata": {},
     "output_type": "display_data"
    }
   ],
   "source": [
    "# Box plot puntaje global - genero estudiante\n",
    "sns.violinplot(y = 'punt_global',\n",
    "               x = 'periodo',\n",
    "               data = data1);"
   ]
  },
  {
   "cell_type": "code",
   "execution_count": 96,
   "metadata": {
    "tags": []
   },
   "outputs": [
    {
     "data": {
      "image/png": "[encoded data removed]",
      "text/plain": [
       "<Figure size 640x480 with 1 Axes>"
      ]
     },
     "metadata": {},
     "output_type": "display_data"
    }
   ],
   "source": [
    "# Box plot puntaje global - genero estudiante\n",
    "sns.violinplot(y = 'punt_global',\n",
    "               x = 'estu_genero',\n",
    "               data = data1);"
   ]
  },
  {
   "cell_type": "code",
   "execution_count": 97,
   "metadata": {
    "tags": []
   },
   "outputs": [
    {
     "data": {
      "image/png": "[encoded data removed]",
      "text/plain": [
       "<Figure size 640x480 with 1 Axes>"
      ]
     },
     "metadata": {},
     "output_type": "display_data"
    }
   ],
   "source": [
    "# Box plot puntaje global - genero colegio\n",
    "sns.violinplot(y = 'punt_global',\n",
    "               x = 'cole_genero',\n",
    "               data = data1);"
   ]
  },
  {
   "cell_type": "code",
   "execution_count": 98,
   "metadata": {
    "tags": []
   },
   "outputs": [
    {
     "data": {
      "image/png": "[encoded data removed]",
      "text/plain": [
       "<Figure size 640x480 with 1 Axes>"
      ]
     },
     "metadata": {},
     "output_type": "display_data"
    }
   ],
   "source": [
    "# Box plot puntaje global - caracter colegio\n",
    "sns.violinplot(y = 'punt_global',\n",
    "               x = 'cole_caracter',\n",
    "               data = data1);"
   ]
  },
  {
   "cell_type": "code",
   "execution_count": 99,
   "metadata": {
    "tags": []
   },
   "outputs": [
    {
     "data": {
      "image/png": "[encoded data removed]",
      "text/plain": [
       "<Figure size 640x480 with 1 Axes>"
      ]
     },
     "metadata": {},
     "output_type": "display_data"
    }
   ],
   "source": [
    "# Box plot puntaje global - calendario colegio\n",
    "sns.violinplot(y = 'punt_global',\n",
    "               x = 'cole_calendario',\n",
    "               data = data1);"
   ]
  },
  {
   "cell_type": "code",
   "execution_count": 100,
   "metadata": {
    "tags": []
   },
   "outputs": [
    {
     "data": {
      "image/png": "[encoded data removed]",
      "text/plain": [
       "<Figure size 640x480 with 1 Axes>"
      ]
     },
     "metadata": {},
     "output_type": "display_data"
    }
   ],
   "source": [
    "# Box plot puntaje global - jornada colegio\n",
    "sns.violinplot(y = 'punt_global',\n",
    "               x = 'cole_jornada',\n",
    "               data = data1);"
   ]
  },
  {
   "cell_type": "markdown",
   "metadata": {},
   "source": [
    "###### Conclusiones\n",
    "Se evidencia que aspectos como género, calendario y jornada del colegio, tienen un impacto en el puntaje global obtenido por el estudiante. "
   ]
  },
  {
   "cell_type": "markdown",
   "metadata": {
    "jp-MarkdownHeadingCollapsed": true,
    "tags": []
   },
   "source": [
    "##### Correlaciones"
   ]
  },
  {
   "cell_type": "code",
   "execution_count": null,
   "metadata": {
    "tags": []
   },
   "outputs": [],
   "source": [
    "# Variables seleccionadas\n",
    "variables_selec = ['periodo', 'estu_tipodocumento', \n",
    "                   'cole_area_ubicacion', 'cole_bilingue', 'cole_calendario', 'cole_caracter', \n",
    "                   'cole_genero', 'cole_jornada', 'cole_naturaleza',\n",
    "                   'estu_fechanacimiento', 'estu_genero',  \n",
    "                   'estu_nacionalidad', 'estu_privado_libertad',\n",
    "                   'fami_educacionmadre', 'fami_educacionpadre', 'fami_estratovivienda', 'fami_personashogar', \n",
    "                   'fami_tienecomputador', 'fami_tieneinternet', \n",
    "                   'desemp_ingles', 'punt_ingles', 'punt_matematicas', 'punt_sociales_ciudadanas', 'punt_c_naturales', 'punt_lectura_critica', 'punt_global']\n",
    "\n",
    "# Se eliminan las variables que no estan en la lista de variables seleccionadas\n",
    "variables_eliminar = [col for col in data.columns if col not in variables_selec]\n",
    "data1 = data.drop(variables_eliminar, axis=1)\n",
    "\n",
    "columnas_no_numericas = data1.select_dtypes(exclude=[np.number]).columns\n",
    "columnas_numericas = data1.select_dtypes(include=[np.number]).columns\n",
    "\n",
    "# Mapa asociación variables categoricas y numericas\n",
    "# Dado que headmap no admite variables categoricas, se calcula el coeficiente de contigencia como medida de asociación entre las variables seleccionadas\n",
    "import scipy.stats as stats\n",
    "\n",
    "# Calcular el coeficiente de contingencia para las variables categóricas\n",
    "association_matrix = pd.DataFrame(index=data1.columns, columns=data1.columns)\n",
    "\n",
    "# Calcular el coeficiente de contingencia entre cada variable y llenar la matriz de asociación\n",
    "for col1 in data1.columns:\n",
    "    for col2 in data1.columns:\n",
    "        contingency_matrix = pd.crosstab(data1[col1], data1[col2])\n",
    "        chi2, _, _, _ = stats.chi2_contingency(contingency_matrix)\n",
    "        association_matrix.loc[col1, col2] = np.sqrt(chi2 / (chi2 + data1.shape[0]))\n",
    "\n",
    "# Convertir la matriz de asociación a valores numéricos\n",
    "association_matrix_numeric = association_matrix.astype(float)\n",
    "\n",
    "# Configurar el tamaño de la figura\n",
    "plt.figure(figsize=(10, 8))\n",
    "\n",
    "# Crear el mapa de calor de la matriz de asociación numérica\n",
    "sns.heatmap(association_matrix_numeric, annot=True, cmap=\"RdYlBu\", fmt=\".1f\", annot_kws={\"size\": 10})\n",
    "\n",
    "# Configurar los ticks del eje x e y con los nombres de las columnas\n",
    "plt.xticks(ticks=np.arange(len(data1.columns)) + 0.5, labels=data1.columns, rotation=90, ha='center')\n",
    "plt.yticks(ticks=np.arange(len(data1.columns)) + 0.5, labels=data1.columns, rotation=0, va='center')\n",
    "\n",
    "# Configurar el título y mostrar el gráfico\n",
    "plt.title(\"Matriz de asociación columna a columna (coeficiente de contingencia)\")\n",
    "plt.show()"
   ]
  },
  {
   "cell_type": "markdown",
   "metadata": {},
   "source": [
    "##### Conclusiones correlacion variables categoricas\n",
    "Dado que las siguientes variables tienen una correlación alta con la otra variable, estas segundas seran eliminadas para la construcción del modelo.\n",
    "- periodo y calendario colegio (0.7)\n",
    "- periodo y fecha nacimiento (0.7)\n",
    "- nacionalidad y tipo documento estudiante (0.7)\n",
    "- educación madre y educación padre (0.7)\n",
    "- nacionalidad estudiante - fecha de nacimiento (0.9)"
   ]
  },
  {
   "cell_type": "markdown",
   "metadata": {
    "nbgrader": {
     "grade": false,
     "grade_id": "cell-216057b23d3cc36d1",
     "locked": true,
     "schema_version": 3,
     "solution": false,
     "task": false
    },
    "tags": []
   },
   "source": [
    "## Fase 3: abordar relación variables-desempeño a través de un modelo"
   ]
  },
  {
   "cell_type": "markdown",
   "metadata": {
    "nbgrader": {
     "grade": false,
     "grade_id": "cell-216057b23d3cc36d2",
     "locked": true,
     "schema_version": 3,
     "solution": false,
     "task": false
    }
   },
   "source": [
    "En esta fase propondrás, implementarás y reportarás el desempeño de uno o más modelos (al menos uno predictivo) que busquen explicar las relaciones entre factores sociodemográficos y el desempeño en la prueba. Además, concluirás con respecto a la validez de al menos un modelo y los posibles hallazgos que se podrían reportar para el *stakeholder*."
   ]
  },
  {
   "cell_type": "markdown",
   "metadata": {
    "nbgrader": {
     "grade": false,
     "grade_id": "cell-216057b23d3cc36d3",
     "locked": true,
     "schema_version": 3,
     "solution": false,
     "task": false
    }
   },
   "source": [
    "Pautas generales:\n",
    "\n",
    "* Seleccionar variables y proponer modelos acordes a estas y al contexto del problema.\n",
    "* Utilizar librerías especializadas (ej., `statsmodels`, `sklearn`, etc.) para indagar sobre los aspectos que contribuyen al éxito de los estudiantes. Los módulos correspondientes a regresión lineal y regresión logística pueden ser útiles.\n",
    "* Asegurar el cumplimiento de los supuestos y buenas prácticas de cada modelo.\n",
    "* Utilizar las métricas de evaluación de desempeño (disponibles en las librerías especilizadas), para concluir sobre la validez de los modelos propuestos."
   ]
  },
  {
   "cell_type": "markdown",
   "metadata": {
    "nbgrader": {
     "grade": false,
     "grade_id": "cell-216057b23d3cc36d4",
     "locked": true,
     "schema_version": 3,
     "solution": false,
     "task": false
    }
   },
   "source": [
    "Preguntas guía:\n",
    "\n",
    "* ¿Existe algún sub-conjunto de variables socio-demográficas que explique razonablemente bien el desempeño de los estudiantes en la prueba?"
   ]
  },
  {
   "cell_type": "code",
   "execution_count": 85,
   "metadata": {
    "nbgrader": {
     "grade": true,
     "grade_id": "cell-94b22dd2cafa56a2",
     "locked": false,
     "points": 30,
     "schema_version": 3,
     "solution": true,
     "task": false
    }
   },
   "outputs": [],
   "source": [
    "# Implementa tu respuesta en esta celda\n",
    "# Librerias usadas en esta fase\n",
    "from dateutil import parser\n",
    "\n",
    "import statsmodels.api as sm\n",
    "import statsmodels.formula.api as smf\n",
    "\n",
    "from sklearn import linear_model\n",
    "from sklearn.linear_model import LogisticRegression\n",
    "from sklearn.model_selection import train_test_split\n",
    "from sklearn import preprocessing, metrics\n",
    "from sklearn.metrics import accuracy_score, precision_score, recall_score, roc_auc_score, f1_score, mean_squared_error, r2_score, mean_absolute_error\n",
    "\n",
    "# Variables seleccionadas para construir el modelo de regresión\n",
    "#variables_selec = ['periodo', 'fami_educacionmadre', 'fami_personashogar', 'fami_tienecomputador', 'fami_tieneinternet', 'punt_global']\n",
    "variables_selec = ['periodo', 'estu_consecutivo','cole_calendario', 'cole_caracter', 'cole_genero', 'cole_jornada', 'cole_naturaleza', 'fami_educacionmadre', 'estu_nacionalidad','fami_personashogar', 'fami_tienecomputador', 'fami_tieneinternet', 'punt_global', 'anio_nacimiento']\n",
    "\n",
    "# Se eliminan las variables que no estan en la lista de variables seleccionadas\n",
    "variables_eliminar = [col for col in data.columns if col not in variables_selec]\n",
    "data2 = data.drop(variables_eliminar, axis=1)\n",
    "\n",
    "# Variable a predecir\n",
    "y = data2['punt_global']\n",
    "y = y.astype(float)\n",
    "X = data2.drop(columns=['punt_global','estu_consecutivo'])\n",
    "\n",
    "# Convertir las variables categoricas a variables dummies\n",
    "X_dummies = pd.get_dummies(X)\n",
    "\n",
    "# Normalizar las variables\n",
    "scaler = preprocessing.StandardScaler().fit(X_dummies)\n",
    "data_normalized = scaler.transform(X_dummies)\n",
    "\n",
    "# Crear conjunto de entrenamiento y prueba\n",
    "X_train, X_test, y_train, y_test = train_test_split(data_normalized, y, test_size=0.2)"
   ]
  },
  {
   "cell_type": "markdown",
   "metadata": {
    "tags": []
   },
   "source": [
    "##### Regresion lineal Statsmodel"
   ]
  },
  {
   "cell_type": "code",
   "execution_count": 184,
   "metadata": {
    "tags": []
   },
   "outputs": [
    {
     "name": "stdout",
     "output_type": "stream",
     "text": [
      "                            OLS Regression Results                            \n",
      "==============================================================================\n",
      "Dep. Variable:                      y   R-squared:                       0.407\n",
      "Model:                            OLS   Adj. R-squared:                  0.407\n",
      "Method:                 Least Squares   F-statistic:                     1832.\n",
      "Date:                Sun, 01 Oct 2023   Prob (F-statistic):               0.00\n",
      "Time:                        04:51:02   Log-Likelihood:            -1.0988e+06\n",
      "No. Observations:              210858   AIC:                         2.198e+06\n",
      "Df Residuals:                  210778   BIC:                         2.199e+06\n",
      "Df Model:                          79                                         \n",
      "Covariance Type:            nonrobust                                         \n",
      "==============================================================================\n",
      "                 coef    std err          t      P>|t|      [0.025      0.975]\n",
      "------------------------------------------------------------------------------\n",
      "x1            -0.2973      0.100     -2.964      0.003      -0.494      -0.101\n",
      "x2         -2.546e+12   2.51e+12     -1.014      0.311   -7.47e+12    2.38e+12\n",
      "x3           -2.5e+12   2.47e+12     -1.014      0.311   -7.33e+12    2.33e+12\n",
      "x4         -6.207e+11   6.12e+11     -1.014      0.311   -1.82e+12    5.79e+11\n",
      "x5             4.3130      0.257     16.814      0.000       3.810       4.816\n",
      "x6            -1.0442      0.111     -9.367      0.000      -1.263      -0.826\n",
      "x7             0.4980      0.184      2.708      0.007       0.138       0.858\n",
      "x8             4.2992      0.242     17.743      0.000       3.824       4.774\n",
      "x9         -1.686e+13   1.66e+13     -1.014      0.311   -4.94e+13    1.57e+13\n",
      "x10        -1.044e+13   1.03e+13     -1.014      0.311   -3.06e+13    9.74e+12\n",
      "x11        -1.963e+13   1.94e+13     -1.014      0.311   -5.76e+13    1.83e+13\n",
      "x12        -8.689e+12   8.57e+12     -1.014      0.311   -2.55e+13    8.11e+12\n",
      "x13        -9.846e+12   9.71e+12     -1.014      0.311   -2.89e+13    9.19e+12\n",
      "x14        -4.422e+12   4.36e+12     -1.014      0.311    -1.3e+13    4.13e+12\n",
      "x15        -5.106e+12   5.04e+12     -1.014      0.311    -1.5e+13    4.76e+12\n",
      "x16        -5.491e+12   5.42e+12     -1.014      0.311   -1.61e+13    5.12e+12\n",
      "x17        -7.289e+12   7.19e+12     -1.014      0.311   -2.14e+13     6.8e+12\n",
      "x18        -9.342e+12   9.21e+12     -1.014      0.311   -2.74e+13    8.72e+12\n",
      "x19        -9.342e+12   9.21e+12     -1.014      0.311   -2.74e+13    8.72e+12\n",
      "x20        -4.292e+11   4.23e+11     -1.014      0.311   -1.26e+12    4.01e+11\n",
      "x21        -7.008e+11   6.91e+11     -1.014      0.311   -2.06e+12    6.54e+11\n",
      "x22        -1.431e+11   1.41e+11     -1.014      0.311    -4.2e+11    1.34e+11\n",
      "x23        -2.023e+11      2e+11     -1.014      0.311   -5.93e+11    1.89e+11\n",
      "x24        -2.023e+11      2e+11     -1.014      0.311   -5.93e+11    1.89e+11\n",
      "x25        -1.431e+11   1.41e+11     -1.014      0.311    -4.2e+11    1.34e+11\n",
      "x26        -3.199e+11   3.16e+11     -1.014      0.311   -9.38e+11    2.99e+11\n",
      "x27        -5.353e+11   5.28e+11     -1.014      0.311   -1.57e+12       5e+11\n",
      "x28        -1.431e+11   1.41e+11     -1.014      0.311    -4.2e+11    1.34e+11\n",
      "x29        -1.431e+11   1.41e+11     -1.014      0.311    -4.2e+11    1.34e+11\n",
      "x30        -2.023e+11      2e+11     -1.014      0.311   -5.93e+11    1.89e+11\n",
      "x31        -5.541e+11   5.46e+11     -1.014      0.311   -1.63e+12    5.17e+11\n",
      "x32        -2.023e+11      2e+11     -1.014      0.311   -5.93e+11    1.89e+11\n",
      "x33        -6.419e+12   6.33e+12     -1.014      0.311   -1.88e+13    5.99e+12\n",
      "x34        -2.023e+11      2e+11     -1.014      0.311   -5.93e+11    1.89e+11\n",
      "x35        -2.861e+11   2.82e+11     -1.014      0.311   -8.39e+11    2.67e+11\n",
      "x36        -2.861e+11   2.82e+11     -1.014      0.311   -8.39e+11    2.67e+11\n",
      "x37        -2.861e+11   2.82e+11     -1.014      0.311   -8.39e+11    2.67e+11\n",
      "x38        -2.023e+11      2e+11     -1.014      0.311   -5.93e+11    1.89e+11\n",
      "x39        -1.001e+12   9.88e+11     -1.014      0.311   -2.94e+12    9.34e+11\n",
      "x40        -1.011e+11   9.97e+10     -1.014      0.311   -2.97e+11    9.44e+10\n",
      "x41        -1.197e+12   1.18e+12     -1.014      0.311   -3.51e+12    1.12e+12\n",
      "x42        -1.303e+12   1.29e+12     -1.014      0.311   -3.82e+12    1.22e+12\n",
      "x43        -4.524e+11   4.46e+11     -1.014      0.311   -1.33e+12    4.22e+11\n",
      "x44        -2.478e+11   2.44e+11     -1.014      0.311   -7.27e+11    2.31e+11\n",
      "x45        -1.431e+11   1.41e+11     -1.014      0.311    -4.2e+11    1.34e+11\n",
      "x46        -2.478e+11   2.44e+11     -1.014      0.311   -7.27e+11    2.31e+11\n",
      "x47        -2.023e+11      2e+11     -1.014      0.311   -5.93e+11    1.89e+11\n",
      "x48        -4.292e+11   4.23e+11     -1.014      0.311   -1.26e+12    4.01e+11\n",
      "x49        -1.431e+11   1.41e+11     -1.014      0.311    -4.2e+11    1.34e+11\n",
      "x50        -5.158e+11   5.09e+11     -1.014      0.311   -1.51e+12    4.81e+11\n",
      "x51        -3.785e+11   3.73e+11     -1.014      0.311   -1.11e+12    3.53e+11\n",
      "x52        -2.023e+11      2e+11     -1.014      0.311   -5.93e+11    1.89e+11\n",
      "x53        -1.431e+11   1.41e+11     -1.014      0.311    -4.2e+11    1.34e+11\n",
      "x54        -3.504e+11   3.46e+11     -1.014      0.311   -1.03e+12    3.27e+11\n",
      "x55        -5.353e+11   5.28e+11     -1.014      0.311   -1.57e+12       5e+11\n",
      "x56        -3.199e+11   3.16e+11     -1.014      0.311   -9.38e+11    2.99e+11\n",
      "x57        -1.431e+11   1.41e+11     -1.014      0.311    -4.2e+11    1.34e+11\n",
      "x58        -3.199e+11   3.16e+11     -1.014      0.311   -9.38e+11    2.99e+11\n",
      "x59        -2.861e+11   2.82e+11     -1.014      0.311   -8.39e+11    2.67e+11\n",
      "x60        -1.431e+11   1.41e+11     -1.014      0.311    -4.2e+11    1.34e+11\n",
      "x61         -1.64e+11   1.62e+11     -1.014      0.311   -4.81e+11    1.53e+11\n",
      "x62        -1.641e+11   1.62e+11     -1.014      0.311   -4.81e+11    1.53e+11\n",
      "x63        -2.478e+11   2.44e+11     -1.014      0.311   -7.27e+11    2.31e+11\n",
      "x64        -1.431e+11   1.41e+11     -1.014      0.311    -4.2e+11    1.34e+11\n",
      "x65        -3.504e+11   3.46e+11     -1.014      0.311   -1.03e+12    3.27e+11\n",
      "x66         -5.76e+12   5.68e+12     -1.014      0.311   -1.69e+13    5.37e+12\n",
      "x67            9.6644      0.491     19.700      0.000       8.703      10.626\n",
      "x68            3.7264      0.240     15.526      0.000       3.256       4.197\n",
      "x69           -2.1526      0.199    -10.815      0.000      -2.543      -1.762\n",
      "x70            0.0088      0.113      0.078      0.938      -0.212       0.230\n",
      "x71            2.0736      0.219      9.477      0.000       1.645       2.502\n",
      "x72           10.6545      0.321     33.169      0.000      10.025      11.284\n",
      "x73           -0.4953      0.349     -1.419      0.156      -1.180       0.189\n",
      "x74           -0.9940      0.416     -2.390      0.017      -1.809      -0.179\n",
      "x75            2.8893      0.550      5.254      0.000       1.811       3.967\n",
      "x76            0.8229      0.419      1.962      0.050       0.001       1.645\n",
      "x77            5.6923      0.386     14.745      0.000       4.936       6.449\n",
      "x78            2.0770      0.240      8.644      0.000       1.606       2.548\n",
      "x79           -1.7998      0.369     -4.883      0.000      -2.522      -1.077\n",
      "x80           -0.6898      0.636     -1.084      0.278      -1.937       0.558\n",
      "x81           -2.2696      0.572     -3.971      0.000      -3.390      -1.149\n",
      "x82           -2.8634      0.325     -8.815      0.000      -3.500      -2.227\n",
      "x83           -2.4893      0.213    -11.664      0.000      -2.908      -2.071\n",
      "x84           -1.1303      0.602     -1.879      0.060      -2.309       0.049\n",
      "x85            3.8296      0.615      6.227      0.000       2.624       5.035\n",
      "x86           -0.1448      0.566     -0.256      0.798      -1.253       0.964\n",
      "x87            4.3964      0.599      7.334      0.000       3.222       5.571\n",
      "==============================================================================\n",
      "Omnibus:                      364.805   Durbin-Watson:                   2.001\n",
      "Prob(Omnibus):                  0.000   Jarque-Bera (JB):              321.356\n",
      "Skew:                           0.050   Prob(JB):                     1.65e-70\n",
      "Kurtosis:                       2.837   Cond. No.                     2.26e+16\n",
      "==============================================================================\n",
      "\n",
      "Warnings:\n",
      "[1] Standard Errors assume that the covariance matrix of the errors is correctly specified.\n",
      "[2] The smallest eigenvalue is 2.32e-27. This might indicate that there are\n",
      "strong multicollinearity problems or that the design matrix is singular.\n"
     ]
    }
   ],
   "source": [
    "y_train = np.asarray(y_train)\n",
    "y_train = y_train.astype(float)\n",
    "\n",
    "# Creación del modelo utilizando matrices como en scikitlearn\n",
    "# A la matriz de predictores se le tiene que añadir una columna de 1s para el intercept del modelo\n",
    "X_train_c = sm.add_constant(X_train, prepend=True)\n",
    "X_test_c = sm.add_constant(X_test, prepend=True)\n",
    "\n",
    "modelo = sm.OLS(np.asarray(y_train), X_train_c)\n",
    "modelo = modelo.fit()\n",
    "print(modelo.summary())"
   ]
  },
  {
   "cell_type": "markdown",
   "metadata": {},
   "source": [
    "##### Regresion logistica Scklearn"
   ]
  },
  {
   "cell_type": "code",
   "execution_count": null,
   "metadata": {
    "tags": []
   },
   "outputs": [],
   "source": [
    "# Estandarizar la variable numerica, donde 500 es el valor máximo a obtener en puntaje global\n",
    "y_est = y / 500\n",
    "\n",
    "# Definir punto de corte para la clasificación binaria, en este caso se eligio el 30%\n",
    "corte = 0.3\n",
    "\n",
    "# Codificiar y binario (si el estudiantiante obtuvo un puntaje mayor a 150 puntos se le asigna 1, de lo contrario 0)\n",
    "y_est = y_est.apply(lambda x: 1 if x > corte else 0)\n",
    "\n",
    "# Crear el modelo de regresion logistica\n",
    "modelo2 = LogisticRegression()\n",
    "\n",
    "# Entrenar el modelo con el conjunto de entrenamiento\n",
    "modelo2.fit(X_train, y_train)\n",
    "\n",
    "# Predecir la variable de interes\n",
    "y_pred = modelo2.predict(X_test)\n",
    "\n",
    "# Calcular métricas para evaluar modelo\n",
    "print(\"RMSE: %.2f\" % mean_squared_error(y_test, y_pred, squared=False))\n",
    "print(\"MAE: %.2f\" % mean_absolute_error(y_test, y_pred))\n",
    "print('R²: %.2f' % r2_score(y_test, y_pred))"
   ]
  },
  {
   "cell_type": "markdown",
   "metadata": {},
   "source": [
    "###### Predicciones mejor modelo"
   ]
  },
  {
   "cell_type": "code",
   "execution_count": 135,
   "metadata": {},
   "outputs": [],
   "source": [
    "mejor_modelo = modelo # regresion lineal\n",
    "\n",
    "# Predecir toda la base\n",
    "y_pred = mejor_modelo.predict(data_normalized)\n",
    "\n",
    "predicciones = pd.DataFrame()\n",
    "predicciones['estu_consecutivo'] = data2['estu_consecutivo']\n",
    "predicciones['punt_global_pred'] = y_pred"
   ]
  },
  {
   "cell_type": "markdown",
   "metadata": {},
   "source": [
    "##### Conclusiones\n",
    "Las variables seleccionadas para predecir fueron aquellas que mas correlación tienen con la variable predicha, aunque no se obtiene un R2 con el cual el modelo se considere confiable (mayor a 0.8), estas explican razonablemente el comportamiento del puntaje global."
   ]
  },
  {
   "cell_type": "markdown",
   "metadata": {
    "nbgrader": {
     "grade": false,
     "grade_id": "cell-48c276616fb862c5",
     "locked": true,
     "schema_version": 3,
     "solution": false,
     "task": false
    }
   },
   "source": [
    "## Fase 4"
   ]
  },
  {
   "cell_type": "markdown",
   "metadata": {
    "nbgrader": {
     "grade": false,
     "grade_id": "cell-eb30850cd7109d78",
     "locked": true,
     "schema_version": 3,
     "solution": false,
     "task": false
    }
   },
   "source": [
    "Deberás elegir y realizar una de las dos alternativas que se encuentran a continuación."
   ]
  },
  {
   "cell_type": "markdown",
   "metadata": {
    "nbgrader": {
     "grade": false,
     "grade_id": "cell-378e2b071d246af8",
     "locked": true,
     "schema_version": 3,
     "solution": false,
     "task": false
    }
   },
   "source": [
    "### Alternativa 1: desarrollar una herramienta interactiva de análisis"
   ]
  },
  {
   "cell_type": "markdown",
   "metadata": {
    "nbgrader": {
     "grade": false,
     "grade_id": "cell-378e2b071d246af9",
     "locked": true,
     "schema_version": 3,
     "solution": false,
     "task": false
    }
   },
   "source": [
    "En esta fase desarrollarás, a partir de alguno de los análisis realizados, una herramienta interactiva que sea relevante en el contexto del problema, acompañada de las instrucciones necesarias para que un usuario la pueda utilizar."
   ]
  },
  {
   "cell_type": "markdown",
   "metadata": {
    "nbgrader": {
     "grade": false,
     "grade_id": "cell-378e2b071d246af10",
     "locked": true,
     "schema_version": 3,
     "solution": false,
     "task": false
    }
   },
   "source": [
    "Pautas generales:\n",
    "\n",
    "* Seleccionar uno de los análisis previos que pueda verse enriquecido con alguna característica de interactividad.\n",
    "* Seleccionar el/los parámetro(s) que el usuario podrá cambiar.\n",
    "* Desarrollar las funciones que se deben ejecutar con cada acción del usuario.\n",
    "* Utilizar una librería especializada (ej., `ipywidgets`, `panel`, etc.) para implementar la herramienta."
   ]
  },
  {
   "cell_type": "markdown",
   "metadata": {
    "nbgrader": {
     "grade": false,
     "grade_id": "cell-378e2b071d246af11",
     "locked": true,
     "schema_version": 3,
     "solution": false,
     "task": false
    }
   },
   "source": [
    "Preguntas guía:\n",
    "\n",
    "* ¿Cuál o cuáles preguntas podrá hacerle el usuario a la herramienta y cómo aporta la respuesta al análisis?\n",
    "* ¿Qué aprendizajes clave puede explorar u obtener el usuario con esta herramienta?"
   ]
  },
  {
   "cell_type": "code",
   "execution_count": 134,
   "metadata": {
    "nbgrader": {
     "grade": true,
     "grade_id": "cell-6b287262b7ce28bb",
     "locked": false,
     "points": 30,
     "schema_version": 3,
     "solution": true,
     "task": false
    }
   },
   "outputs": [],
   "source": [
    "# Implementa tu respuesta en esta celda\n",
    "import plotly.graph_objects as go\n",
    "import ipywidgets as widgets\n",
    "from ipywidgets import interactive"
   ]
  },
  {
   "cell_type": "code",
   "execution_count": null,
   "metadata": {},
   "outputs": [],
   "source": []
  },
  {
   "cell_type": "markdown",
   "metadata": {
    "nbgrader": {
     "grade": false,
     "grade_id": "cell-c8a33682f37a6fa7",
     "locked": true,
     "schema_version": 3,
     "solution": false,
     "task": false
    }
   },
   "source": [
    "### Alternativa 2: registrar en bases de datos relacionales con PySpark"
   ]
  },
  {
   "cell_type": "markdown",
   "metadata": {
    "nbgrader": {
     "grade": false,
     "grade_id": "cell-c8a33682f37a6fa8",
     "locked": true,
     "schema_version": 3,
     "solution": false,
     "task": false
    }
   },
   "source": [
    "En esta fase desarrollarás, a partir de alguno de los análisis realizados, un _script_ que sea relevante en el contexto del problema, acompañado de las instrucciones necesarias para que un usuario lo pueda ejecutar."
   ]
  },
  {
   "cell_type": "markdown",
   "metadata": {
    "nbgrader": {
     "grade": false,
     "grade_id": "cell-c8a33682f37a6fa9",
     "locked": true,
     "schema_version": 3,
     "solution": false,
     "task": false
    }
   },
   "source": [
    "Pautas generales:\n",
    "\n",
    "* Cargar en una base de datos relacional (tipo SQL) el segmento de los datos sobre el cual profundizaste en tu anális, utilizando una tabla distinta para cada categoría de campos. Por ejemplo, una categoría puedes ser información del colegio; en cuyo caso, una tabla debería contener un registro único para cada colegio y todos los campos asociados.\n",
    "\n",
    "* Los campos, a excepción de los identificadores, deben existir en un única tabla.\n",
    "\n",
    "* Cada registro debe existir una única vez en su respectiva tabla.\n",
    "\n",
    "* Cada registro debe tener un identificador único en su tabla, el cual establece una relación entre tablas.\n",
    "\n",
    "* Seleccionar uno de los modelos predictivos implementados.\n",
    "\n",
    "* Crear en la base de datos relacional una tabla que contenga únicamente los identificadores del registro y la predicción de la variable de respuesta hecha por el modelo.\n",
    "\n",
    "* Desarrollar _queries_ de SQL según las siguientes indicaciones y concluir acerca de los resultados:\n",
    "    * Un _query_ que seleccione todos registros y los agregue en una única tabla. Para esto debes relacionar las tablas por su identificador, utilizando el método `JOIN`.\n",
    "    * Un _query_ que contenga el puntaje promedio de los estudiantes, agrupado por año y por colegio.\n",
    "    * Distintos _queries_ que calculen medidas de error de predicción del modelo a partir de los datos reales y las predicciones respectivas. Debes reportar el error para cada registro, el error total de los registros de entrenamiento y el error total de los registros de prueba.\n",
    "    * Haz dos _queries_ adicionales que resulten interesantes."
   ]
  },
  {
   "cell_type": "markdown",
   "metadata": {
    "nbgrader": {
     "grade": false,
     "grade_id": "cell-c8a33682f37a6fa10",
     "locked": true,
     "schema_version": 3,
     "solution": false,
     "task": false
    }
   },
   "source": [
    "Preguntas guía:\n",
    "\n",
    "* ¿Cómo aporta la segmentación de los datos en categorías de campos al manejo de los datos?\n",
    "* ¿Qué filtros y agrupaciones podemos aplicar sobre los datos con el fin de obtener información relevante?"
   ]
  },
  {
   "cell_type": "code",
   "execution_count": null,
   "metadata": {
    "nbgrader": {
     "grade": true,
     "grade_id": "cell-29052f96082e3438",
     "locked": false,
     "points": 0,
     "schema_version": 3,
     "solution": true,
     "task": false
    }
   },
   "outputs": [],
   "source": [
    "# Implementa tu respuesta en esta celda\n",
    "# Librerias a usar en esata seccion\n",
    "from pyspark.sql import SparkSession, functions\n",
    "from pyspark.sql.functions import col, concat_ws\n",
    "\n",
    "# Inicialización de una sesión de Spark\n",
    "spark = SparkSession.builder \\\n",
    "                    .master(\"local[*]\") \\\n",
    "                    .appName(\"Instancia_LAB_2\") \\\n",
    "                    .config(\"spark.sql.warehouse.dir\", \"./Archivos/\") \\\n",
    "                    .enableHiveSupport() \\\n",
    "                    .getOrCreate()\n",
    "\n",
    "# Se crea un dataframe tipo spark con el dataframe original\n",
    "# No se uso el mismo dataframe que se uso en los analisis dado que a esa dataframe le faltaban campos a usarse como llaves en spark\n",
    "data_spark = spark.createDataFrame(data=data,schema=data.columns.tolist())\n",
    "\n",
    "# Desagregar el Dataframe original y se crear 3 Dataframes para desagregar la información\n",
    "# 1. Contiene la información de las pruebas por estudiante (puntajes obtenidos por estudiante)\n",
    "pruebas_df = data_spark.selectExpr([col for col in data_spark.columns if col.startswith(\"periodo\") or col.startswith(\"punt\") or col.startswith(\"desemp\") or col.startswith(\"estu_consecutivo\")]).distinct()\n",
    "\n",
    "# 2. Contiene la información de cada estudiante\n",
    "estudiantes_df = data_spark.selectExpr([col for col in data_spark.columns if col.startswith(\"estu\") or col.startswith(\"estu_consecutivo\") or col.startswith(\"cole_codigo_icfes\")]).distinct()\n",
    "#estudiantes_df = estudiante_df.withColumn(\"llave_colegio\", concat_ws(\"\", *[\"cole_cod_dane_establecimiento\", \"cole_cod_dane_sede\"]))\n",
    "#estudiantes_df = estudiante_df.drop(\"cole_cod_dane_establecimiento\", \"cole_cod_dane_sede\")\n",
    "\n",
    "# 3. Contiene la información de cada colegio\n",
    "colegios_df = data_spark.selectExpr([col for col in data_spark.columns if col.startswith(\"cole\")]).distinct()\n",
    "#colegios_df = colegio_df.withColumn(\"llave_colegio\", concat_ws(\"\", *[\"cole_cod_dane_establecimiento\", \"cole_cod_dane_sede\"]))\n",
    "\n",
    "# 4. Contiene la información de la familia de cada estudiante\n",
    "familias_df = data_spark.selectExpr([col for col in data_spark.columns if col.startswith(\"fami\") or col.startswith(\"estu_consecutivo\")]).distinct()\n",
    "\n",
    "# Crear Dataframe con las predicciones del mejor modelo\n",
    "predicciones_df = spark.createDataFrame(data=predicciones,schema=predicciones.columns.tolist())\n",
    "\n",
    "# Se crea la lista de las base de datos a crear\n",
    "bd_a_crear = [\"saber_11_db\"]\n",
    "\n",
    "# Se crea las bases de datos\n",
    "for i in bd_a_crear:\n",
    "    spark.sql(f\"CREATE DATABASE IF NOT EXISTS {i}\")\n",
    "bd = spark.sql(\"SHOW DATABASES\")\n",
    "bd = bd.filter(col(\"namespace\") != \"default\")\n",
    "\n",
    "spark_bases_de_datos_df = crear_varios_db(bd_a_crear)\n",
    "spark_bases_de_datos_df.show()\n",
    "\n",
    "# Cargar tablas a la base de datos creada\n",
    "tablas_a_crear = ['pruebas_df','estudiantes_df', 'colegios_df', 'familias_df', 'predicciones_df']\n",
    "\n",
    "pruebas_df.createOrReplaceTempView(\"pruebas_df\")\n",
    "estudiantes_df.createOrReplaceTempView(\"estudiantes_df\")\n",
    "colegios_df.createOrReplaceTempView(\"colegios_df\")\n",
    "familias_df.createOrReplaceTempView(\"familias_df\")\n",
    "predicciones_df.createOrReplaceTempView(\"predicciones_df\")\n",
    "    \n",
    "for i in tablas_a_crear:\n",
    "    spark.sql(f\"CREATE TABLE IF NOT EXISTS saber_11_db.{i} STORED AS ORC AS SELECT * FROM {i}\")\n",
    "df = spark.sql(f\"SHOW TABLES IN saber_11_db\")\n",
    "df = df.filter(df.isTemporary == False)\n",
    "df = df.select(\"tableName\")\n",
    "\n",
    "print(\"\\n\")\n",
    "print(\"Se crearon las siguientes tablas en la base de datos: \")\n",
    "print(\"----------------------------------------------------------------------------------------\")\n",
    "df.show()"
   ]
  },
  {
   "cell_type": "markdown",
   "metadata": {},
   "source": [
    "##### Queries"
   ]
  },
  {
   "cell_type": "code",
   "execution_count": 168,
   "metadata": {},
   "outputs": [],
   "source": [
    "# Consulta para unir las cuatro tablas y formar una tabla consolidada (se selecciona principales campos)\n",
    "consulta = \\\n",
    "'''\\\n",
    "SELECT a.estu_tipodocumento\n",
    "    ,  a.estu_consecutivo\n",
    "    ,  a.estu_fechanacimiento\n",
    "    ,  a.estu_genero\n",
    "    ,  a.estu_nacionalidad\n",
    "    ,  b.periodo\n",
    "    ,  b.punt_global\n",
    "    ,  c.cole_bilingue\n",
    "    ,  c.cole_calendario\n",
    "    ,  c.cole_caracter\n",
    "    ,  c.cole_genero\n",
    "    ,  c.cole_jornada\n",
    "    ,  c.cole_naturaleza\n",
    "    ,  d.fami_educacionmadre\n",
    "    ,  d.fami_educacionpadre\n",
    "    ,  d.fami_estratovivienda\n",
    "    ,  d.fami_personashogar\n",
    "    ,  d.fami_tienecomputador\n",
    "    ,  d.fami_tieneinternet\n",
    "FROM saber_11_db.estudiantes_df a\n",
    "JOIN saber_11_db.pruebas_df b ON a.estu_consecutivo = b.estu_consecutivo\n",
    "JOIN saber_11_db.colegios_df c ON a.cole_codigo_icfes = c.cole_codigo_icfes\n",
    "JOIN saber_11_db.familias_df d ON a.estu_consecutivo = d.estu_consecutivo\n",
    "ORDER BY a.estu_consecutivo ASC\n",
    "LIMIT 10;\n",
    "'''\n",
    "\n",
    "data_consolidada = spark.sql(consulta)\n",
    "data_consolidada.show()"
   ]
  },
  {
   "cell_type": "code",
   "execution_count": 174,
   "metadata": {},
   "outputs": [
    {
     "name": "stdout",
     "output_type": "stream",
     "text": [
      "+----+---------------------------+---------------+\n",
      "|anio|cole_nombre_establecimiento|avg_punt_global|\n",
      "+----+---------------------------+---------------+\n",
      "|2019|       INSTITUCION EDUCA...|          244.9|\n",
      "|2019|       INSTITUCION EDUCA...|         216.25|\n",
      "|2019|                 I.E. JUNIN|          179.5|\n",
      "|2019|       COLEGIO GARCES NA...|         227.86|\n",
      "|2019|       INSTITUCION EDUCA...|         215.14|\n",
      "|2019|       ASPAEN GIMNASIO C...|          368.7|\n",
      "|2019|       INST EDUC FELIX H...|         244.67|\n",
      "|2019|       COLEGIO MAYOR DE ...|         342.27|\n",
      "|2019|       COLEGIO LEONARDO ...|         263.95|\n",
      "|2019|       INSTITUTO PITAGOR...|          234.0|\n",
      "|2019|            I. E. LOS ANDES|         212.28|\n",
      "|2019|       COLEGIO LA AMISTA...|         248.43|\n",
      "|2019|       IE JUAN BAUTISTA ...|         341.13|\n",
      "|2019|        COL PRIMERO DE MAYO|         301.25|\n",
      "|2019|            COL SANTO ANGEL|         325.54|\n",
      "|2019|       COL DE LA PRESENT...|          311.5|\n",
      "|2019|       COLEGIO REAL DE B...|          332.0|\n",
      "|2019|       COLEGIO CIUDAD DE...|         233.58|\n",
      "|2019|       BTO FORMAL DE ADU...|         225.25|\n",
      "|2019|       INSTITUCIÓN EDUCA...|         244.33|\n",
      "+----+---------------------------+---------------+\n",
      "only showing top 20 rows\n",
      "\n"
     ]
    }
   ],
   "source": [
    "# Consulta del puntaje promedio de los estudiantes, agrupado por año y por colegio\n",
    "consulta = \\\n",
    "'''\\\n",
    "SELECT SUBSTRING(b.periodo,0,4) anio\n",
    "    ,  c.cole_nombre_establecimiento\n",
    "    ,  ROUND(AVG(b.punt_global),2) avg_punt_global\n",
    "FROM saber_11_db.estudiantes_df a\n",
    "JOIN saber_11_db.pruebas_df b ON a.estu_consecutivo = b.estu_consecutivo\n",
    "JOIN saber_11_db.colegios_df c ON a.cole_codigo_icfes = c.cole_codigo_icfes\n",
    "GROUP BY 1,2\n",
    "ORDER BY 1 ASC;\n",
    "'''\n",
    "\n",
    "punt_prom = spark.sql(consulta)\n",
    "punt_prom.show()"
   ]
  },
  {
   "cell_type": "code",
   "execution_count": 178,
   "metadata": {},
   "outputs": [
    {
     "data": {
      "text/plain": [
       "DataFrame[estu_consecutivo: string, punt_global_pred: double]"
      ]
     },
     "execution_count": 178,
     "metadata": {},
     "output_type": "execute_result"
    }
   ],
   "source": [
    "predicciones_df"
   ]
  },
  {
   "cell_type": "code",
   "execution_count": 180,
   "metadata": {},
   "outputs": [
    {
     "name": "stdout",
     "output_type": "stream",
     "text": [
      "+----------------+------------------+\n",
      "|estu_consecutivo|error_predicciones|\n",
      "+----------------+------------------+\n",
      "|SB11201910019471|            -46.93|\n",
      "|SB11201910011547|            -22.45|\n",
      "|SB11201910017949|             56.33|\n",
      "|SB11201910013808|             -55.6|\n",
      "|SB11201910040522|            -46.66|\n",
      "|SB11201910016590|              59.9|\n",
      "|SB11201910003091|              7.22|\n",
      "|SB11201910025659|               5.6|\n",
      "|SB11201910007691|              4.58|\n",
      "|SB11201910016406|             40.85|\n",
      "|SB11201910010876|            -21.25|\n",
      "|SB11201910026570|              32.1|\n",
      "|SB11201910018963|             21.76|\n",
      "|SB11201910011991|              58.2|\n",
      "|SB11201910005491|              9.34|\n",
      "|SB11201910011705|             11.45|\n",
      "|SB11201910004921|            -39.89|\n",
      "|SB11201910045456|            -42.07|\n",
      "|SB11201910005056|              31.2|\n",
      "|SB11201910030121|             56.05|\n",
      "+----------------+------------------+\n",
      "only showing top 20 rows\n",
      "\n"
     ]
    }
   ],
   "source": [
    "# Consulta para calcular el error para cada registro \n",
    "# Debes reportar el error para cada registro, el error total de los registros de entrenamiento y el error total de los registros de prueba\n",
    "consulta = \\\n",
    "'''\\\n",
    "SELECT a.estu_consecutivo\n",
    "    ,  ROUND((b.punt_global - c.punt_global_pred),2) error_predicciones\n",
    "FROM saber_11_db.estudiantes_df a\n",
    "JOIN saber_11_db.pruebas_df b ON a.estu_consecutivo = b.estu_consecutivo\n",
    "JOIN saber_11_db.predicciones_df c ON a.estu_consecutivo = c.estu_consecutivo\n",
    ";\n",
    "'''\n",
    "\n",
    "error_reg = spark.sql(consulta)\n",
    "error_reg.show()"
   ]
  },
  {
   "cell_type": "code",
   "execution_count": null,
   "metadata": {},
   "outputs": [],
   "source": [
    "# Consulta para calcular el error total de los registros de entrenamiento y el error total de los registros de prueba \n",
    "consulta = \\\n",
    "'''\\\n",
    "SELECT a.estu_consecutivo\n",
    "    ,  ROUND((b.punt_global - c.punt_global_pred),2) error_predicciones\n",
    "FROM saber_11_db.estudiantes_df a\n",
    "JOIN saber_11_db.pruebas_df b ON a.estu_consecutivo = b.estu_consecutivo\n",
    "JOIN saber_11_db.predicciones_df c ON a.estu_consecutivo = c.estu_consecutivo\n",
    ";\n",
    "'''\n",
    "\n",
    "error_train_test = spark.sql(consulta)\n",
    "error_train_test.show()"
   ]
  },
  {
   "cell_type": "code",
   "execution_count": 181,
   "metadata": {},
   "outputs": [
    {
     "name": "stdout",
     "output_type": "stream",
     "text": [
      "+--------------------+---------------+-------------+\n",
      "|cole_depto_ubicacion|avg_punt_global|cant_colegios|\n",
      "+--------------------+---------------+-------------+\n",
      "|              BOGOTA|         343.56|           49|\n",
      "|              BOGOTÁ|         289.57|         1397|\n",
      "|               VALLE|         279.81|          878|\n",
      "|        CUNDINAMARCA|          273.3|          844|\n",
      "|           SANTANDER|         270.39|          579|\n",
      "|             QUINDIO|         266.56|          103|\n",
      "|              CALDAS|         266.49|          236|\n",
      "|              BOYACA|         266.06|          394|\n",
      "|           RISARALDA|         263.99|          210|\n",
      "|           ATLANTICO|         262.45|          570|\n",
      "|               CAUCA|         256.07|          471|\n",
      "|     NORTE SANTANDER|         254.11|          323|\n",
      "|              NARIÑO|         253.83|          397|\n",
      "|               HUILA|         251.89|          272|\n",
      "|            CASANARE|         250.79|          103|\n",
      "|           ANTIOQUIA|         249.98|         1157|\n",
      "|                META|         248.73|          232|\n",
      "|             BOLIVAR|         241.94|          478|\n",
      "|              TOLIMA|         241.73|          366|\n",
      "|              ARAUCA|         240.76|           63|\n",
      "+--------------------+---------------+-------------+\n",
      "only showing top 20 rows\n",
      "\n"
     ]
    }
   ],
   "source": [
    "# Consulta del puntaje promedio por departamento, ordenado de mayor a menor\n",
    "consulta = \\\n",
    "'''\\\n",
    "SELECT c.cole_depto_ubicacion\n",
    "    ,  ROUND(AVG(b.punt_global),2) avg_punt_global\n",
    "    ,  COUNT(DISTINCT c.cole_nombre_establecimiento) cant_colegios\n",
    "FROM saber_11_db.estudiantes_df a\n",
    "JOIN saber_11_db.pruebas_df b ON a.estu_consecutivo = b.estu_consecutivo\n",
    "JOIN saber_11_db.colegios_df c ON a.cole_codigo_icfes = c.cole_codigo_icfes\n",
    "GROUP BY 1\n",
    "ORDER BY 2 DESC;\n",
    "'''\n",
    "\n",
    "punt_dpto = spark.sql(consulta)\n",
    "punt_dpto.show()"
   ]
  },
  {
   "cell_type": "markdown",
   "metadata": {},
   "source": [
    "##### Conclusiones\n",
    "- La segmentacion de los datos por categoria optimizan el proceso de consulta y manipulacion de los datos, dado que teniendo la información en un solo dataframe es mas demorado hacer calculos. Por el contrario, teniendo los datos en diferentes tablas con llaves que la unen entre si, se extraen los campos a usar.\n",
    "- Las agrupaciones que implican mas de dos campos es mas facil aplicar mediante SQL, y se pueden aplicar varios tipos de agregación lo que permiten tener mayor información relevante."
   ]
  },
  {
   "cell_type": "markdown",
   "metadata": {
    "nbgrader": {
     "grade": false,
     "grade_id": "cell-32cfb4282f725e3c",
     "locked": true,
     "schema_version": 3,
     "solution": false,
     "task": false
    }
   },
   "source": [
    "## Referencias"
   ]
  },
  {
   "cell_type": "markdown",
   "metadata": {
    "nbgrader": {
     "grade": false,
     "grade_id": "cell-32cfb4282f725e3c1",
     "locked": true,
     "schema_version": 3,
     "solution": false,
     "task": false
    }
   },
   "source": [
    "*  J. VanderPlas (2016) *Python Data Science Handbook: Essential Tools for Working with Data* O'Reilly Media, Inc.\n",
    "*  scikit-learn developers . (2020). Demo of DBSCAN clustering algorithm. 11 Diciembre 2020, de scikit-learn <br> https://scikit-learn.org/stable/auto_examples/cluster/plot_dbscan.html#sphx-glr-auto-examples-cluster-plot-dbscan-py"
   ]
  },
  {
   "cell_type": "markdown",
   "metadata": {
    "nbgrader": {
     "grade": false,
     "grade_id": "cell-32cfb4282f725e3c2",
     "locked": true,
     "schema_version": 3,
     "solution": false,
     "task": false
    }
   },
   "source": [
    "## Créditos"
   ]
  },
  {
   "cell_type": "markdown",
   "metadata": {
    "nbgrader": {
     "grade": false,
     "grade_id": "cell-32cfb4282f725e3c3",
     "locked": true,
     "schema_version": 3,
     "solution": false,
     "task": false
    }
   },
   "source": [
    "__Autores__: Camilo Hernando Gómez Castro, Alejandro Mantilla Redondo, Jose Fernando Barrera de Plaza, Diego Alejandro Cely Gómez.\n",
    "\n",
    "__Fecha última actualización__: 29/09/2022"
   ]
  }
 ],
 "metadata": {
  "celltoolbar": "Create Assignment",
  "kernelspec": {
   "display_name": "Python 3 (ipykernel)",
   "language": "python",
   "name": "python3"
  },
  "language_info": {
   "codemirror_mode": {
    "name": "ipython",
    "version": 3
   },
   "file_extension": ".py",
   "mimetype": "text/x-python",
   "name": "python",
   "nbconvert_exporter": "python",
   "pygments_lexer": "ipython3",
   "version": "3.11.4"
  }
 },
 "nbformat": 4,
 "nbformat_minor": 4
}
